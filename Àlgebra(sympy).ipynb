{
  "nbformat": 4,
  "nbformat_minor": 0,
  "metadata": {
    "colab": {
      "name": "Àlgebra(sympy).ipynb",
      "version": "0.3.2",
      "provenance": [],
      "collapsed_sections": []
    },
    "kernelspec": {
      "name": "python3",
      "display_name": "Python 3"
    }
  },
  "cells": [
    {
      "metadata": {
        "id": "fikQfWAs0_yY",
        "colab_type": "text"
      },
      "cell_type": "markdown",
      "source": [
        "**Llibreries**\n",
        " * SymPy\n",
        "   * Biblioteca de python per matemàtiques simbòliques.\n",
        "   * Documentació: https://docs.sympy.org/latest/index.html\n",
        "   \n",
        "**Tasca:**\n",
        " * Carrega la llibreria 'sympy' amb el nom 'sym'."
      ]
    },
    {
      "metadata": {
        "id": "blfGMf8a72dy",
        "colab_type": "code",
        "colab": {}
      },
      "cell_type": "code",
      "source": [
        ""
      ],
      "execution_count": 0,
      "outputs": []
    },
    {
      "metadata": {
        "id": "QQvAOHR-6EqV",
        "colab_type": "text"
      },
      "cell_type": "markdown",
      "source": [
        "**Indicacions:**\n",
        "  * Per establir una incògnita de treball fem servir ' z = sym.Symbol('z')' .\n",
        "\n",
        "**Tasca:**\n",
        "* Estableix com 'x' la incògnita amb la qual treballarem als polinomis."
      ]
    },
    {
      "metadata": {
        "id": "vAsb1S4D0MpM",
        "colab_type": "code",
        "colab": {}
      },
      "cell_type": "code",
      "source": [
        ""
      ],
      "execution_count": 0,
      "outputs": []
    },
    {
      "metadata": {
        "id": "nhL6DJmn-3YV",
        "colab_type": "text"
      },
      "cell_type": "markdown",
      "source": [
        "**Tasca:**\n",
        "  * Realitza la **suma** dels següents polinomis: \n",
        "    * $P(x)=6x^3 + 7x^2 + 8x - 3$\n",
        "    * $Q(x)=-4x^2 + 2x + 1$\n",
        "    * El resultat del procès hauria de ser: $6x^3 + 3x^2 + 10x - 2$"
      ]
    },
    {
      "metadata": {
        "id": "6CrX3r0x0QQv",
        "colab_type": "code",
        "colab": {}
      },
      "cell_type": "code",
      "source": [
        ""
      ],
      "execution_count": 0,
      "outputs": []
    },
    {
      "metadata": {
        "id": "_QmG2ivh_tD9",
        "colab_type": "text"
      },
      "cell_type": "markdown",
      "source": [
        "**Tasca:** \n",
        "  * Realitza la **resta** dels següents polinomis: \n",
        "    * $P(x)=8x^3 + 5x^2 + 4x - 3$\n",
        "    * $Q(x)=-8x^3 + 9x^2 - 2x + 9$\n",
        "    * El resultat del procès hauria de ser: $16x^3 - 4x^2 + 6x - 12$"
      ]
    },
    {
      "metadata": {
        "id": "6Kcpzg7h0lSL",
        "colab_type": "code",
        "colab": {}
      },
      "cell_type": "code",
      "source": [
        ""
      ],
      "execution_count": 0,
      "outputs": []
    },
    {
      "metadata": {
        "id": "LbM99Ur5AImu",
        "colab_type": "text"
      },
      "cell_type": "markdown",
      "source": [
        "**Indicacions:** \n",
        " * Per desenvolupar un polinomi en termes cal fer servir la instrucció 'sym.expand(Polinomi)'.\n",
        "\n",
        "**Tasca:** \n",
        "  * Realitza la **multiplicació** dels següents polinomis: \n",
        "    * $P(x)=-6x^3 - 3x^2 - 6x + 4$\n",
        "    * $Q(x)=-6x^3 + 2x^2 + 7x + 9$\n",
        "    * El resultat del procès hauria de ser: $36x^6 + 6x^5 - 12x^4 - 111x^3 - 61x^2 - 26x + 36$\n"
      ]
    },
    {
      "metadata": {
        "id": "vDtVA47z0qLp",
        "colab_type": "code",
        "colab": {}
      },
      "cell_type": "code",
      "source": [
        ""
      ],
      "execution_count": 0,
      "outputs": []
    },
    {
      "metadata": {
        "id": "6W6_-PAPDHL0",
        "colab_type": "text"
      },
      "cell_type": "markdown",
      "source": [
        "**Indicacions:** \n",
        " * Podem calcular la **divisió entera de dos polinomis** amb la instrucció 'Polinomi_Quocient, Polinomi_Residu = sym.div(Polinomi_Divident, Polinomi_Divisor)'.\n",
        "\n",
        "**Tasca:** \n",
        "  * Realitza la **divisió** dels següents polinomis: \n",
        "    * $P(x)=12x^5 - 42x^4 + 2x^3 - 12x^2 - 57x - 11$\n",
        "    * $Q(x)=2x^2 - 7x - 1$\n",
        "    * El resultat del procès hauria de ser: \n",
        "      * Quocient= $6x^3 + 4x + 8$\n",
        "      * Residu= $3x - 3$\n"
      ]
    },
    {
      "metadata": {
        "id": "0UIm8iPqDIB2",
        "colab_type": "code",
        "colab": {}
      },
      "cell_type": "code",
      "source": [
        ""
      ],
      "execution_count": 0,
      "outputs": []
    },
    {
      "metadata": {
        "id": "cOARWWevCcHp",
        "colab_type": "text"
      },
      "cell_type": "markdown",
      "source": [
        "**Tasca:** \n",
        "  * Realitza el **quadrat** del següent polinomi: \n",
        "    * $P(x)=-6x^3 - 4x^2 - 7x + 4$\n",
        "    * El resultat del procès hauria de ser: $36x^6 + 48x^5 + 100x^4 + 8x^3 + 17x^2 - 56x + 16$"
      ]
    },
    {
      "metadata": {
        "id": "YsZcFtgG0vNr",
        "colab_type": "code",
        "colab": {}
      },
      "cell_type": "code",
      "source": [
        ""
      ],
      "execution_count": 0,
      "outputs": []
    },
    {
      "metadata": {
        "id": "1An1rkw7IhWP",
        "colab_type": "text"
      },
      "cell_type": "markdown",
      "source": [
        "**Indicacions:** \n",
        " * Podem calcular el **màxim comú divisor** de dos polinomis amb la instrucció 'sym.gcd(Polinomi_A, Polinomi_B)'.\n",
        "\n",
        "**Tasca:** \n",
        "  * Realitza el **MCD** dels següents polinomis: \n",
        "    * $P(x)=-8x^5 + 5x^4 - 27x^3 + 28x^2 + 15x - 5$\n",
        "    * $Q(x)=-48x^5 + 54x^4 - 49x^3 + 33x^2 + 35x - 5$\n",
        "    * El resultat del procès hauria de ser: $8x^2 - 5x - 5$\n"
      ]
    },
    {
      "metadata": {
        "id": "15-uA1y1MmCc",
        "colab_type": "code",
        "colab": {}
      },
      "cell_type": "code",
      "source": [
        ""
      ],
      "execution_count": 0,
      "outputs": []
    },
    {
      "metadata": {
        "id": "oQ8dsqWzMm5j",
        "colab_type": "text"
      },
      "cell_type": "markdown",
      "source": [
        "**Indicacions:** \n",
        " * Podem calcular el **mínim comú múltiple** de dos polinomis amb la instrucció 'sym.lcm(Polinomi_A, Polinomi_B)'.\n",
        "\n",
        "**Tasca:** \n",
        "  * Realitza el **mcm** dels següents polinomis: \n",
        "    * $P(x)=20x^3 + 196x^2 + 549x + 324$\n",
        "    * $Q(x)=-50x^3 - 305x^2 - 392x - 144$\n",
        "    * El resultat del procès hauria de ser: $-100x^4 - 1060x^3 - 3529x^2 - 3816x - 1296$\n"
      ]
    },
    {
      "metadata": {
        "id": "9gmNGaedM_od",
        "colab_type": "code",
        "colab": {}
      },
      "cell_type": "code",
      "source": [
        ""
      ],
      "execution_count": 0,
      "outputs": []
    },
    {
      "metadata": {
        "id": "k0CgMA6TRPO9",
        "colab_type": "text"
      },
      "cell_type": "markdown",
      "source": [
        "**Indicacions:** \n",
        " * Podem calcular la **factorització** d'un polinomi amb la instrucció 'sym.factor(Polinomi)'.\n",
        "\n",
        "**Tasca:** \n",
        "  * Realitza el **quadrat** del següent polinomi: \n",
        "    * $P(x)=-224x^3 - 356x^2 + 203x + 245$\n",
        "    * El resultat del procès hauria de ser: $( + 7)(7x + 5)(8x - 7)$"
      ]
    },
    {
      "metadata": {
        "id": "gzQ-6sFNXyq1",
        "colab_type": "code",
        "colab": {}
      },
      "cell_type": "code",
      "source": [
        ""
      ],
      "execution_count": 0,
      "outputs": []
    },
    {
      "metadata": {
        "id": "WRP8m-JBFGCm",
        "colab_type": "text"
      },
      "cell_type": "markdown",
      "source": [
        "**Indicacions:** \n",
        " * Podem calcular la **divisió entera de dos polinomis** amb la instrucció 'Polinomi_Quocient, Polinomi_Residu = sym.div(Polinomi_Divident, Polinomi_Divisor)'.\n",
        "\n",
        "**Tasca:** \n",
        "  * Simplifica la següent fracció algebraica: \n",
        "    * $\\frac{5x^4 - 36x^3 + 26x^2 + 69x - 54}{-8x^3 + 45x^2 + 17x + 6}$ \n",
        "    * El resultat del procès hauria de ser: "
      ]
    },
    {
      "metadata": {
        "id": "o6O09ITKXzVY",
        "colab_type": "text"
      },
      "cell_type": "markdown",
      "source": [
        "**Indicacions:** \n",
        " * Podem calcular les **arrels d'un polinomi** amb la instrucció 'sym.solve(Polinomi, Incognita)'.\n",
        "\n",
        "**Tasca:** \n",
        "  * Deternima les **arrels** del següent polinomi: \n",
        "    * $P(x)=245x^3 - 147x^2 - 80x + 48$\n",
        "    * El resultat del procès hauria de ser: [-4/7, 4/7, 3/5]"
      ]
    },
    {
      "metadata": {
        "id": "XChhjyR1X6pl",
        "colab_type": "code",
        "colab": {}
      },
      "cell_type": "code",
      "source": [
        ""
      ],
      "execution_count": 0,
      "outputs": []
    },
    {
      "metadata": {
        "id": "Lh5NeQNkabT6",
        "colab_type": "text"
      },
      "cell_type": "markdown",
      "source": [
        "**Indicacions:** \n",
        " * Podem calcular la **derivada** d'una funció amb la instrucció 'sym.diff(Funció, Incognita)'.\n",
        "\n",
        "**Tasca:** \n",
        "  * Realitza la **derivada** del següent polinomi: \n",
        "    * $P(x)=-8x^3 + 7x^2 + 3x - 10$\n",
        "    * El resultat del procès hauria de ser: $-24x^2 + 14x + 3$\n"
      ]
    },
    {
      "metadata": {
        "id": "SmNn5v4x-cNS",
        "colab_type": "code",
        "colab": {}
      },
      "cell_type": "code",
      "source": [
        ""
      ],
      "execution_count": 0,
      "outputs": []
    },
    {
      "metadata": {
        "id": "yEWlz0_v_T8i",
        "colab_type": "text"
      },
      "cell_type": "markdown",
      "source": [
        "**Indicacions:** \n",
        " * Podem calcular la **Integral indefinida** d'una funció amb la instrucció 'sym.integrate(Funció, Incognita)'.\n",
        "\n",
        "**Tasca:** \n",
        "  * Realitza la **Integral indefinida** del següent polinomi: \n",
        "    * $P(x)=-4x^3 - 6x^2 + 5x - 8$\n",
        "    * El resultat del procès hauria de ser: $-x^4 - 2x^3 + 5/2x^2 - 8x$"
      ]
    },
    {
      "metadata": {
        "id": "9PQVOKqV_VaW",
        "colab_type": "code",
        "colab": {}
      },
      "cell_type": "code",
      "source": [
        ""
      ],
      "execution_count": 0,
      "outputs": []
    },
    {
      "metadata": {
        "id": "W7KNgoJO00kr",
        "colab_type": "code",
        "colab": {}
      },
      "cell_type": "code",
      "source": [
        "\n",
        "\n",
        "print(\"Divisió:\", sym.factor(P/Q))  # Resultat factoritzat.\n",
        "\n"
      ],
      "execution_count": 0,
      "outputs": []
    }
  ]
}